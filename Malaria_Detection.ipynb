{
  "nbformat": 4,
  "nbformat_minor": 0,
  "metadata": {
    "accelerator": "GPU",
    "colab": {
      "name": "final_Malaria_Detection.ipynb",
      "provenance": [],
      "collapsed_sections": []
    },
    "kernelspec": {
      "display_name": "Python 3",
      "language": "python",
      "name": "python3"
    },
    "language_info": {
      "codemirror_mode": {
        "name": "ipython",
        "version": 3
      },
      "file_extension": ".py",
      "mimetype": "text/x-python",
      "name": "python",
      "nbconvert_exporter": "python",
      "pygments_lexer": "ipython3",
      "version": "3.8.8"
    }
  },
  "cells": [
    {
      "cell_type": "markdown",
      "metadata": {
        "id": "pw4DhQTdIBSI"
      },
      "source": [
        "#Malaria Disease Detection"
      ]
    },
    {
      "cell_type": "code",
      "metadata": {
        "colab": {
          "base_uri": "https://localhost:8080/"
        },
        "id": "N_ndYaDwrfjW",
        "outputId": "1ee33557-ae4e-4a5f-9988-3a4581bb3e68"
      },
      "source": [
        "from google.colab import drive\n",
        "drive.mount('/content/gdrive')"
      ],
      "execution_count": null,
      "outputs": [
        {
          "output_type": "stream",
          "text": [
            "Mounted at /content/gdrive\n"
          ],
          "name": "stdout"
        }
      ]
    },
    {
      "cell_type": "code",
      "metadata": {
        "colab": {
          "base_uri": "https://localhost:8080/"
        },
        "id": "mlzFtGQFzEI3",
        "outputId": "81bebd80-b3a3-463a-9518-b5d6fe4e9641"
      },
      "source": [
        "! ls"
      ],
      "execution_count": null,
      "outputs": [
        {
          "output_type": "stream",
          "text": [
            "gdrive\tsample_data\n"
          ],
          "name": "stdout"
        }
      ]
    },
    {
      "cell_type": "code",
      "metadata": {
        "colab": {
          "base_uri": "https://localhost:8080/"
        },
        "id": "Kx75m8RmzM48",
        "outputId": "4bd42c13-86e9-4dde-a4fb-b345544d0a92"
      },
      "source": [
        "%cd gdrive/My Drive/Dataset"
      ],
      "execution_count": null,
      "outputs": [
        {
          "output_type": "stream",
          "text": [
            "/content/gdrive/My Drive/Dataset\n"
          ],
          "name": "stdout"
        }
      ]
    },
    {
      "cell_type": "code",
      "metadata": {
        "id": "I7jP6E8gQba0"
      },
      "source": [
        "#importing important libraries\n",
        "import os\n",
        "import numpy as np\n",
        "import pandas as pd\n",
        "import matplotlib.pyplot as plt\n",
        "import seaborn as sns\n",
        "from matplotlib.image import imread\n",
        "from tensorflow import keras\n",
        "from tensorflow.keras.preprocessing.image import ImageDataGenerator\n",
        "from tensorflow.keras.models import Sequential\n",
        "from tensorflow.keras.layers import Dense, MaxPool2D, Conv2D, Dropout,Flatten\n",
        "from tensorflow.keras.callbacks import EarlyStopping\n",
        "from tensorflow.keras.models import load_model\n",
        "from sklearn.metrics import classification_report, confusion_matrix\n",
        "import seaborn as sns\n",
        "import matplotlib.pyplot as plt\n",
        "%matplotlib inline\n",
        "\n",
        "import warnings\n",
        "warnings.filterwarnings(\"ignore\")"
      ],
      "execution_count": null,
      "outputs": []
    },
    {
      "cell_type": "code",
      "metadata": {
        "colab": {
          "base_uri": "https://localhost:8080/"
        },
        "id": "r3ln9ru93IxE",
        "outputId": "4700810b-53e0-41c1-8efb-5761343bc676"
      },
      "source": [
        "cwd = os.getcwd()\n",
        "print(cwd)"
      ],
      "execution_count": null,
      "outputs": [
        {
          "output_type": "stream",
          "text": [
            "/content/gdrive/My Drive/Dataset\n"
          ],
          "name": "stdout"
        }
      ]
    },
    {
      "cell_type": "code",
      "metadata": {
        "id": "8BN2O2YI2zTc"
      },
      "source": [
        "data_dir = cwd "
      ],
      "execution_count": null,
      "outputs": []
    },
    {
      "cell_type": "code",
      "metadata": {
        "colab": {
          "base_uri": "https://localhost:8080/"
        },
        "id": "kzxB4hdI3U3Z",
        "outputId": "1cbd3de4-653d-42a3-8080-ab267392482a"
      },
      "source": [
        "os.listdir(data_dir)"
      ],
      "execution_count": null,
      "outputs": [
        {
          "output_type": "execute_result",
          "data": {
            "text/plain": [
              "['Train', 'Test', 'my_model']"
            ]
          },
          "metadata": {
            "tags": []
          },
          "execution_count": 7
        }
      ]
    },
    {
      "cell_type": "code",
      "metadata": {
        "id": "nYQb77XE3_pf"
      },
      "source": [
        "train_path = data_dir + '/Train/'\n",
        "test_path = data_dir + '/Test/'"
      ],
      "execution_count": null,
      "outputs": []
    },
    {
      "cell_type": "code",
      "metadata": {
        "colab": {
          "base_uri": "https://localhost:8080/",
          "height": 35
        },
        "id": "oT4OKxPY4FiM",
        "outputId": "a13fab70-e2c3-4bf4-dbb3-44c68af36e91"
      },
      "source": [
        "test_path\n"
      ],
      "execution_count": null,
      "outputs": [
        {
          "output_type": "execute_result",
          "data": {
            "application/vnd.google.colaboratory.intrinsic+json": {
              "type": "string"
            },
            "text/plain": [
              "'/content/gdrive/My Drive/Dataset/Test/'"
            ]
          },
          "metadata": {
            "tags": []
          },
          "execution_count": 9
        }
      ]
    },
    {
      "cell_type": "code",
      "metadata": {
        "colab": {
          "base_uri": "https://localhost:8080/"
        },
        "id": "vqfazR404IjL",
        "outputId": "a2d8ae4e-6fb9-43b8-e38f-97fd87cbd246"
      },
      "source": [
        "os.listdir(test_path)"
      ],
      "execution_count": null,
      "outputs": [
        {
          "output_type": "execute_result",
          "data": {
            "text/plain": [
              "['Uninfected', 'Parasite']"
            ]
          },
          "metadata": {
            "tags": []
          },
          "execution_count": 10
        }
      ]
    },
    {
      "cell_type": "code",
      "metadata": {
        "colab": {
          "base_uri": "https://localhost:8080/"
        },
        "id": "tcE4z_H-4PWC",
        "outputId": "70da8f0f-e18f-4577-bd3d-9a9a4295547a"
      },
      "source": [
        "os.listdir(train_path)"
      ],
      "execution_count": null,
      "outputs": [
        {
          "output_type": "execute_result",
          "data": {
            "text/plain": [
              "['Uninfected', 'Parasite']"
            ]
          },
          "metadata": {
            "tags": []
          },
          "execution_count": 11
        }
      ]
    },
    {
      "cell_type": "code",
      "metadata": {
        "colab": {
          "base_uri": "https://localhost:8080/",
          "height": 35
        },
        "id": "LecSOPpf4cdF",
        "outputId": "840983d0-1c79-4f5d-f127-f4873968515c"
      },
      "source": [
        "os.listdir(train_path+'Parasite')[0]"
      ],
      "execution_count": null,
      "outputs": [
        {
          "output_type": "execute_result",
          "data": {
            "application/vnd.google.colaboratory.intrinsic+json": {
              "type": "string"
            },
            "text/plain": [
              "'C33P1thinF_IMG_20150619_120645a_cell_217.png'"
            ]
          },
          "metadata": {
            "tags": []
          },
          "execution_count": 12
        }
      ]
    },
    {
      "cell_type": "code",
      "metadata": {
        "id": "bZZYV4ln4UY0"
      },
      "source": [
        "parasitized_cell = train_path +'Parasite/'+ 'C33P1thinF_IMG_20150619_120645a_cell_217.png'"
      ],
      "execution_count": null,
      "outputs": []
    },
    {
      "cell_type": "code",
      "metadata": {
        "colab": {
          "base_uri": "https://localhost:8080/",
          "height": 35
        },
        "id": "l1rVA2MP4nVA",
        "outputId": "91507a82-70e0-4144-aa11-1ef47932689e"
      },
      "source": [
        "parasitized_cell"
      ],
      "execution_count": null,
      "outputs": [
        {
          "output_type": "execute_result",
          "data": {
            "application/vnd.google.colaboratory.intrinsic+json": {
              "type": "string"
            },
            "text/plain": [
              "'/content/gdrive/My Drive/Dataset/Train/Parasite/C33P1thinF_IMG_20150619_120645a_cell_217.png'"
            ]
          },
          "metadata": {
            "tags": []
          },
          "execution_count": 14
        }
      ]
    },
    {
      "cell_type": "code",
      "metadata": {
        "colab": {
          "base_uri": "https://localhost:8080/"
        },
        "id": "9eTwMf__4wub",
        "outputId": "259441d6-c217-4fe2-9736-4d8d6e446396"
      },
      "source": [
        "imread(parasitized_cell)"
      ],
      "execution_count": null,
      "outputs": [
        {
          "output_type": "execute_result",
          "data": {
            "text/plain": [
              "array([[[0., 0., 0.],\n",
              "        [0., 0., 0.],\n",
              "        [0., 0., 0.],\n",
              "        ...,\n",
              "        [0., 0., 0.],\n",
              "        [0., 0., 0.],\n",
              "        [0., 0., 0.]],\n",
              "\n",
              "       [[0., 0., 0.],\n",
              "        [0., 0., 0.],\n",
              "        [0., 0., 0.],\n",
              "        ...,\n",
              "        [0., 0., 0.],\n",
              "        [0., 0., 0.],\n",
              "        [0., 0., 0.]],\n",
              "\n",
              "       [[0., 0., 0.],\n",
              "        [0., 0., 0.],\n",
              "        [0., 0., 0.],\n",
              "        ...,\n",
              "        [0., 0., 0.],\n",
              "        [0., 0., 0.],\n",
              "        [0., 0., 0.]],\n",
              "\n",
              "       ...,\n",
              "\n",
              "       [[0., 0., 0.],\n",
              "        [0., 0., 0.],\n",
              "        [0., 0., 0.],\n",
              "        ...,\n",
              "        [0., 0., 0.],\n",
              "        [0., 0., 0.],\n",
              "        [0., 0., 0.]],\n",
              "\n",
              "       [[0., 0., 0.],\n",
              "        [0., 0., 0.],\n",
              "        [0., 0., 0.],\n",
              "        ...,\n",
              "        [0., 0., 0.],\n",
              "        [0., 0., 0.],\n",
              "        [0., 0., 0.]],\n",
              "\n",
              "       [[0., 0., 0.],\n",
              "        [0., 0., 0.],\n",
              "        [0., 0., 0.],\n",
              "        ...,\n",
              "        [0., 0., 0.],\n",
              "        [0., 0., 0.],\n",
              "        [0., 0., 0.]]], dtype=float32)"
            ]
          },
          "metadata": {
            "tags": []
          },
          "execution_count": 15
        }
      ]
    },
    {
      "cell_type": "code",
      "metadata": {
        "colab": {
          "base_uri": "https://localhost:8080/",
          "height": 286
        },
        "id": "j7YfJoci42Ik",
        "outputId": "c2fa4280-2faf-4b31-c9a4-61bb24ba4a7b"
      },
      "source": [
        "plt.imshow(imread(parasitized_cell))"
      ],
      "execution_count": null,
      "outputs": [
        {
          "output_type": "execute_result",
          "data": {
            "text/plain": [
              "<matplotlib.image.AxesImage at 0x7f4fd2ec0d10>"
            ]
          },
          "metadata": {
            "tags": []
          },
          "execution_count": 16
        },
        {
          "output_type": "display_data",
          "data": {
            "image/png": "[encoded data removed]",
            "text/plain": [
              "<Figure size 432x288 with 1 Axes>"
            ]
          },
          "metadata": {
            "tags": [],
            "needs_background": "light"
          }
        }
      ]
    },
    {
      "cell_type": "code",
      "metadata": {
        "colab": {
          "base_uri": "https://localhost:8080/",
          "height": 35
        },
        "id": "5C9wlF0d45Lx",
        "outputId": "00f3202f-9cd5-427f-d94a-5f846b8a54ee"
      },
      "source": [
        "os.listdir(train_path+'Uninfected')[5]"
      ],
      "execution_count": null,
      "outputs": [
        {
          "output_type": "execute_result",
          "data": {
            "application/vnd.google.colaboratory.intrinsic+json": {
              "type": "string"
            },
            "text/plain": [
              "'C1_thinF_IMG_20150604_104722_cell_216.png'"
            ]
          },
          "metadata": {
            "tags": []
          },
          "execution_count": 17
        }
      ]
    },
    {
      "cell_type": "code",
      "metadata": {
        "id": "WeSuq1538XZn"
      },
      "source": [
        "uninfected_cell = train_path + 'Uninfected/'+ 'C1_thinF_IMG_20150604_104722_cell_216.png'"
      ],
      "execution_count": null,
      "outputs": []
    },
    {
      "cell_type": "code",
      "metadata": {
        "colab": {
          "base_uri": "https://localhost:8080/",
          "height": 35
        },
        "id": "T_9aWj428cmk",
        "outputId": "7b051dcf-8cac-4bdd-affb-0e9734dae381"
      },
      "source": [
        "uninfected_cell"
      ],
      "execution_count": null,
      "outputs": [
        {
          "output_type": "execute_result",
          "data": {
            "application/vnd.google.colaboratory.intrinsic+json": {
              "type": "string"
            },
            "text/plain": [
              "'/content/gdrive/My Drive/Dataset/Train/Uninfected/C1_thinF_IMG_20150604_104722_cell_216.png'"
            ]
          },
          "metadata": {
            "tags": []
          },
          "execution_count": 19
        }
      ]
    },
    {
      "cell_type": "code",
      "metadata": {
        "colab": {
          "base_uri": "https://localhost:8080/",
          "height": 286
        },
        "id": "nBMp-fLr8irH",
        "outputId": "8dca8c83-9869-412f-a5ed-005b193419e1"
      },
      "source": [
        "imread(uninfected_cell)\n",
        "plt.imshow(imread(uninfected_cell))"
      ],
      "execution_count": null,
      "outputs": [
        {
          "output_type": "execute_result",
          "data": {
            "text/plain": [
              "<matplotlib.image.AxesImage at 0x7f4fd2e09210>"
            ]
          },
          "metadata": {
            "tags": []
          },
          "execution_count": 20
        },
        {
          "output_type": "display_data",
          "data": {
            "image/png": "[encoded data removed]",
            "text/plain": [
              "<Figure size 432x288 with 1 Axes>"
            ]
          },
          "metadata": {
            "tags": [],
            "needs_background": "light"
          }
        }
      ]
    },
    {
      "cell_type": "code",
      "metadata": {
        "colab": {
          "base_uri": "https://localhost:8080/"
        },
        "id": "-8PH9n638kph",
        "outputId": "ab774d03-d454-4653-9ec9-4b40f73218da"
      },
      "source": [
        "len(os.listdir(train_path+'Parasite')),len(os.listdir(train_path+'Uninfected'))"
      ],
      "execution_count": null,
      "outputs": [
        {
          "output_type": "execute_result",
          "data": {
            "text/plain": [
              "(220, 196)"
            ]
          },
          "metadata": {
            "tags": []
          },
          "execution_count": 21
        }
      ]
    },
    {
      "cell_type": "markdown",
      "metadata": {
        "id": "H5FmsAtzAC8Z"
      },
      "source": [
        "Number of images of parasitized cell is same as number of images of uninfected_cell"
      ]
    },
    {
      "cell_type": "code",
      "metadata": {
        "colab": {
          "base_uri": "https://localhost:8080/"
        },
        "id": "GDGeJu5t9z7y",
        "outputId": "9432ddd1-0752-4424-ec5c-4b7066eb33bc"
      },
      "source": [
        "len(os.listdir(test_path+'Parasite')),len(os.listdir(test_path+'Uninfected'))"
      ],
      "execution_count": null,
      "outputs": [
        {
          "output_type": "execute_result",
          "data": {
            "text/plain": [
              "(91, 43)"
            ]
          },
          "metadata": {
            "tags": []
          },
          "execution_count": 22
        }
      ]
    },
    {
      "cell_type": "markdown",
      "metadata": {
        "id": "MMN1IOdf_uvI"
      },
      "source": [
        "These are real images. So, they don't have same dimensions."
      ]
    },
    {
      "cell_type": "code",
      "metadata": {
        "id": "7We7iuVR-SHC",
        "colab": {
          "base_uri": "https://localhost:8080/"
        },
        "outputId": "8369f2cf-4fd3-4c03-c2c6-aef4d544ef09"
      },
      "source": [
        "dim1 = []\n",
        "dim2 = []\n",
        "import time\n",
        "start=time.time()\n",
        "for image_filename in os.listdir(test_path+'Uninfected'):\n",
        "    \n",
        "    img = imread(test_path + 'Uninfected/' + image_filename)\n",
        "    d1, d2, colors = img.shape\n",
        "    dim1.append(d1)\n",
        "    dim2.append(d2)\n",
        "end=time.time()    \n",
        "print(\"total time in minutes=\", ((end-start)/60))"
      ],
      "execution_count": null,
      "outputs": [
        {
          "output_type": "stream",
          "text": [
            "total time in minutes= 0.4105852524439494\n"
          ],
          "name": "stdout"
        }
      ]
    },
    {
      "cell_type": "code",
      "metadata": {
        "colab": {
          "base_uri": "https://localhost:8080/"
        },
        "id": "6LDVMm7vIjEy",
        "outputId": "471275c8-437a-4b04-cb99-e6cf80593112"
      },
      "source": [
        "print(dim1,dim2)"
      ],
      "execution_count": null,
      "outputs": [
        {
          "output_type": "stream",
          "text": [
            "[121, 115, 112, 136, 130, 130, 130, 97, 124, 127, 154, 112, 124, 130, 100, 127, 121, 145, 133, 103, 112, 130, 112, 106, 121, 115, 121, 127, 100, 136, 115, 106, 124, 124, 130, 115, 109, 106, 100, 112, 142, 118, 115] [118, 115, 103, 94, 139, 145, 133, 115, 121, 127, 118, 118, 121, 106, 100, 118, 112, 109, 118, 112, 121, 124, 124, 115, 112, 139, 94, 124, 97, 109, 100, 118, 121, 121, 91, 103, 118, 103, 118, 109, 106, 106, 118]\n"
          ],
          "name": "stdout"
        }
      ]
    },
    {
      "cell_type": "code",
      "metadata": {
        "colab": {
          "base_uri": "https://localhost:8080/",
          "height": 472
        },
        "id": "stAPAOuMAYEy",
        "outputId": "d6966532-2575-4be1-dba2-16c249a258ae"
      },
      "source": [
        "ax=sns.jointplot(dim1,dim2)\n",
        "\n",
        "ax.set_axis_labels('dim1', 'dim2')"
      ],
      "execution_count": null,
      "outputs": [
        {
          "output_type": "execute_result",
          "data": {
            "text/plain": [
              "<seaborn.axisgrid.JointGrid at 0x7f4fd2e099d0>"
            ]
          },
          "metadata": {
            "tags": []
          },
          "execution_count": 25
        },
        {
          "output_type": "display_data",
          "data": {
            "image/png": "[encoded data removed]",
            "text/plain": [
              "<Figure size 432x432 with 3 Axes>"
            ]
          },
          "metadata": {
            "tags": [],
            "needs_background": "light"
          }
        }
      ]
    },
    {
      "cell_type": "markdown",
      "metadata": {
        "id": "0KlOFHHmA4kc"
      },
      "source": [
        "CNN cannot train on different sized images. So, we need to reshape themm\n"
      ]
    },
    {
      "cell_type": "code",
      "metadata": {
        "colab": {
          "base_uri": "https://localhost:8080/"
        },
        "id": "duobwxkEAiCB",
        "outputId": "b084266e-c38e-45aa-c2a2-26a04ca30866"
      },
      "source": [
        "np.mean(dim1)"
      ],
      "execution_count": null,
      "outputs": [
        {
          "output_type": "execute_result",
          "data": {
            "text/plain": [
              "120.16279069767442"
            ]
          },
          "metadata": {
            "tags": []
          },
          "execution_count": 26
        }
      ]
    },
    {
      "cell_type": "code",
      "metadata": {
        "colab": {
          "base_uri": "https://localhost:8080/"
        },
        "id": "OVrxPyUhBcOy",
        "outputId": "29b51af7-06ee-4e74-ea5f-6a3b5b58ffb8"
      },
      "source": [
        "np.mean(dim2)"
      ],
      "execution_count": null,
      "outputs": [
        {
          "output_type": "execute_result",
          "data": {
            "text/plain": [
              "114.72093023255815"
            ]
          },
          "metadata": {
            "tags": []
          },
          "execution_count": 27
        }
      ]
    },
    {
      "cell_type": "code",
      "metadata": {
        "id": "1v5-lYVwBIaf"
      },
      "source": [
        "# all the images are resized to image_shape\n",
        "image_shape = (d1,d2,3)"
      ],
      "execution_count": null,
      "outputs": []
    },
    {
      "cell_type": "markdown",
      "metadata": {
        "id": "dhvxs7hRBmN9"
      },
      "source": [
        "##Preparing train and test Image Generator"
      ]
    },
    {
      "cell_type": "code",
      "metadata": {
        "id": "rXcaNKbbB-w6"
      },
      "source": [
        "image_gen = ImageDataGenerator(rotation_range=20,\n",
        "                              width_shift_range=0.1,\n",
        "                              height_shift_range=0.1,\n",
        "                              rescale=1/255,\n",
        "                              shear_range=0.1,\n",
        "                              zoom_range=0.1,\n",
        "                              horizontal_flip = True,\n",
        "                              fill_mode ='nearest' \n",
        "                              )"
      ],
      "execution_count": null,
      "outputs": []
    },
    {
      "cell_type": "code",
      "metadata": {
        "colab": {
          "base_uri": "https://localhost:8080/",
          "height": 286
        },
        "id": "juWxdyQBCCMX",
        "outputId": "900db46f-ff1d-4df5-88ef-ff39709e517b"
      },
      "source": [
        "parasitized_cell_img = imread(parasitized_cell)\n",
        "plt.imshow(parasitized_cell_img)"
      ],
      "execution_count": null,
      "outputs": [
        {
          "output_type": "execute_result",
          "data": {
            "text/plain": [
              "<matplotlib.image.AxesImage at 0x7f4fc910dd90>"
            ]
          },
          "metadata": {
            "tags": []
          },
          "execution_count": 30
        },
        {
          "output_type": "display_data",
          "data": {
            "image/png": "[encoded data removed]",
            "text/plain": [
              "<Figure size 432x288 with 1 Axes>"
            ]
          },
          "metadata": {
            "tags": [],
            "needs_background": "light"
          }
        }
      ]
    },
    {
      "cell_type": "code",
      "metadata": {
        "colab": {
          "base_uri": "https://localhost:8080/",
          "height": 286
        },
        "id": "AteRsPshCLqU",
        "outputId": "3e42ab35-c893-4a6c-e394-a2f86a7bfcab"
      },
      "source": [
        "plt.imshow(image_gen.random_transform(parasitized_cell_img))"
      ],
      "execution_count": null,
      "outputs": [
        {
          "output_type": "execute_result",
          "data": {
            "text/plain": [
              "<matplotlib.image.AxesImage at 0x7f4fc9100090>"
            ]
          },
          "metadata": {
            "tags": []
          },
          "execution_count": 31
        },
        {
          "output_type": "display_data",
          "data": {
            "image/png": "[encoded data removed]",
            "text/plain": [
              "<Figure size 432x288 with 1 Axes>"
            ]
          },
          "metadata": {
            "tags": [],
            "needs_background": "light"
          }
        }
      ]
    },
    {
      "cell_type": "code",
      "metadata": {
        "colab": {
          "base_uri": "https://localhost:8080/"
        },
        "id": "93fOP54xCSOW",
        "outputId": "db2a2844-7b2a-422b-d7f3-5b050f1afcb1"
      },
      "source": [
        "#Generating more images\n",
        "\n",
        "image_gen.flow_from_directory(train_path)"
      ],
      "execution_count": null,
      "outputs": [
        {
          "output_type": "stream",
          "text": [
            "Found 416 images belonging to 2 classes.\n"
          ],
          "name": "stdout"
        },
        {
          "output_type": "execute_result",
          "data": {
            "text/plain": [
              "<tensorflow.python.keras.preprocessing.image.DirectoryIterator at 0x7f4fc90be850>"
            ]
          },
          "metadata": {
            "tags": []
          },
          "execution_count": 32
        }
      ]
    },
    {
      "cell_type": "code",
      "metadata": {
        "id": "qNVHleRLDOpt"
      },
      "source": [
        "batch_size = 16"
      ],
      "execution_count": null,
      "outputs": []
    },
    {
      "cell_type": "code",
      "metadata": {
        "colab": {
          "base_uri": "https://localhost:8080/"
        },
        "id": "y9Dmo6hsDFjv",
        "outputId": "d45ed63e-4d43-4e9f-bae4-a6494ee6c97d"
      },
      "source": [
        "import time\n",
        "st=time.time()\n",
        "train_image_gen = image_gen.flow_from_directory(train_path,\n",
        "                                               target_size=image_shape[:2],\n",
        "                                                color_mode = 'rgb',\n",
        "                                                batch_size=batch_size,\n",
        "                                                class_mode='binary'\n",
        "                                               )\n",
        "end=time.time()\n",
        "print(\"total time in minutes=\", ((end-st)/60))"
      ],
      "execution_count": null,
      "outputs": [
        {
          "output_type": "stream",
          "text": [
            "Found 416 images belonging to 2 classes.\n",
            "total time in minutes= 0.0017647941907246907\n"
          ],
          "name": "stdout"
        }
      ]
    },
    {
      "cell_type": "code",
      "metadata": {
        "colab": {
          "base_uri": "https://localhost:8080/"
        },
        "id": "FXocLjqYDMAl",
        "outputId": "5b0b9a1f-76ad-4184-b7de-ef9f3f9f778c"
      },
      "source": [
        "\n",
        "test_image_gen = image_gen.flow_from_directory(test_path,\n",
        "                                               target_size=image_shape[:2],\n",
        "                                                color_mode = 'rgb',\n",
        "                                                batch_size=batch_size,\n",
        "                                                class_mode='binary',\n",
        "                                               shuffle= False\n",
        "                                               )"
      ],
      "execution_count": null,
      "outputs": [
        {
          "output_type": "stream",
          "text": [
            "Found 134 images belonging to 2 classes.\n"
          ],
          "name": "stdout"
        }
      ]
    },
    {
      "cell_type": "markdown",
      "metadata": {
        "id": "1c3UW_2tCsAa"
      },
      "source": [
        "##Creating the Model"
      ]
    },
    {
      "cell_type": "code",
      "metadata": {
        "id": "MmUQ3AvPC0_M"
      },
      "source": [
        "model = Sequential()\n",
        "\n",
        "model.add(Conv2D(filters=16, \n",
        "                 kernel_size=(3,3), \n",
        "                 input_shape=image_shape,\n",
        "                 activation='relu'\n",
        "                ))\n",
        "model.add(MaxPool2D(pool_size=(2,2)))\n",
        "model.add(Dropout(0.2))\n",
        "\n",
        "\n",
        "model.add(Conv2D(filters=32, \n",
        "                 kernel_size=(3,3), \n",
        "                 input_shape=image_shape,\n",
        "                 activation='relu'\n",
        "                ))\n",
        "model.add(MaxPool2D(pool_size=(2,2)))\n",
        "model.add(Dropout(0.3))\n",
        "\n",
        "\n",
        "model.add(Conv2D(filters=64, \n",
        "                 kernel_size=(3,3), \n",
        "                 input_shape=image_shape,\n",
        "                 activation='relu'\n",
        "                ))\n",
        "model.add(MaxPool2D(pool_size=(2,2)))\n",
        "model.add(Dropout(0.3))\n",
        "\n",
        "model.add(Flatten())\n",
        "\n",
        "model.add(Dense(64, activation='relu'))\n",
        "model.add(Dropout(0.5))\n",
        "\n",
        "model.add(Dense(1, activation='sigmoid'))\n",
        "\n",
        "model.compile(loss='binary_crossentropy', optimizer='adam', metrics=['accuracy'])"
      ],
      "execution_count": null,
      "outputs": []
    },
    {
      "cell_type": "code",
      "metadata": {
        "colab": {
          "base_uri": "https://localhost:8080/"
        },
        "id": "0IGwRjDoC6CX",
        "outputId": "6813f415-1f5b-4a27-deb3-fc661eb2730b"
      },
      "source": [
        "model.summary()"
      ],
      "execution_count": null,
      "outputs": [
        {
          "output_type": "stream",
          "text": [
            "Model: \"sequential\"\n",
            "_________________________________________________________________\n",
            "Layer (type)                 Output Shape              Param #   \n",
            "=================================================================\n",
            "conv2d (Conv2D)              (None, 113, 116, 16)      448       \n",
            "_________________________________________________________________\n",
            "max_pooling2d (MaxPooling2D) (None, 56, 58, 16)        0         \n",
            "_________________________________________________________________\n",
            "dropout (Dropout)            (None, 56, 58, 16)        0         \n",
            "_________________________________________________________________\n",
            "conv2d_1 (Conv2D)            (None, 54, 56, 32)        4640      \n",
            "_________________________________________________________________\n",
            "max_pooling2d_1 (MaxPooling2 (None, 27, 28, 32)        0         \n",
            "_________________________________________________________________\n",
            "dropout_1 (Dropout)          (None, 27, 28, 32)        0         \n",
            "_________________________________________________________________\n",
            "conv2d_2 (Conv2D)            (None, 25, 26, 64)        18496     \n",
            "_________________________________________________________________\n",
            "max_pooling2d_2 (MaxPooling2 (None, 12, 13, 64)        0         \n",
            "_________________________________________________________________\n",
            "dropout_2 (Dropout)          (None, 12, 13, 64)        0         \n",
            "_________________________________________________________________\n",
            "flatten (Flatten)            (None, 9984)              0         \n",
            "_________________________________________________________________\n",
            "dense (Dense)                (None, 64)                639040    \n",
            "_________________________________________________________________\n",
            "dropout_3 (Dropout)          (None, 64)                0         \n",
            "_________________________________________________________________\n",
            "dense_1 (Dense)              (None, 1)                 65        \n",
            "=================================================================\n",
            "Total params: 662,689\n",
            "Trainable params: 662,689\n",
            "Non-trainable params: 0\n",
            "_________________________________________________________________\n"
          ],
          "name": "stdout"
        }
      ]
    },
    {
      "cell_type": "code",
      "metadata": {
        "id": "tZQViIu4DDO8"
      },
      "source": [
        "early_stop = EarlyStopping(monitor='val_loss', patience=6)"
      ],
      "execution_count": null,
      "outputs": []
    },
    {
      "cell_type": "code",
      "metadata": {
        "colab": {
          "base_uri": "https://localhost:8080/"
        },
        "id": "iz2epnU5DV0l",
        "outputId": "1bc4c1e0-a9eb-47de-eff7-1996be4fd6cf"
      },
      "source": [
        "st=time.time()\n",
        "results = model.fit_generator(train_image_gen, epochs=20, verbose=1,\n",
        "                              validation_data = test_image_gen , \n",
        "                              callbacks = [early_stop])\n",
        "end=time.time()\n",
        "print(\"total time to fit data =\", ((end-st)/60) , \"minutes\")"
      ],
      "execution_count": null,
      "outputs": [
        {
          "output_type": "stream",
          "text": [
            "Epoch 1/20\n",
            "26/26 [==============================] - 294s 11s/step - loss: 0.7201 - accuracy: 0.5216 - val_loss: 0.6839 - val_accuracy: 0.6791\n",
            "Epoch 2/20\n",
            "26/26 [==============================] - 3s 134ms/step - loss: 0.6547 - accuracy: 0.5745 - val_loss: 0.6972 - val_accuracy: 0.3731\n",
            "Epoch 3/20\n",
            "26/26 [==============================] - 3s 134ms/step - loss: 0.5778 - accuracy: 0.7067 - val_loss: 0.7018 - val_accuracy: 0.5149\n",
            "Epoch 4/20\n",
            "26/26 [==============================] - 3s 134ms/step - loss: 0.4494 - accuracy: 0.7933 - val_loss: 0.7048 - val_accuracy: 0.5373\n",
            "Epoch 5/20\n",
            "26/26 [==============================] - 3s 133ms/step - loss: 0.4178 - accuracy: 0.8341 - val_loss: 0.5508 - val_accuracy: 0.7313\n",
            "Epoch 6/20\n",
            "26/26 [==============================] - 3s 134ms/step - loss: 0.4433 - accuracy: 0.8317 - val_loss: 0.4823 - val_accuracy: 0.7761\n",
            "Epoch 7/20\n",
            "26/26 [==============================] - 3s 134ms/step - loss: 0.3302 - accuracy: 0.8846 - val_loss: 0.3855 - val_accuracy: 0.8358\n",
            "Epoch 8/20\n",
            "26/26 [==============================] - 3s 134ms/step - loss: 0.2839 - accuracy: 0.9111 - val_loss: 0.4935 - val_accuracy: 0.7388\n",
            "Epoch 9/20\n",
            "26/26 [==============================] - 3s 132ms/step - loss: 0.2375 - accuracy: 0.9279 - val_loss: 0.4788 - val_accuracy: 0.7537\n",
            "Epoch 10/20\n",
            "26/26 [==============================] - 3s 131ms/step - loss: 0.2631 - accuracy: 0.9159 - val_loss: 0.4331 - val_accuracy: 0.7836\n",
            "Epoch 11/20\n",
            "26/26 [==============================] - 3s 131ms/step - loss: 0.2470 - accuracy: 0.9183 - val_loss: 0.7429 - val_accuracy: 0.6269\n",
            "Epoch 12/20\n",
            "26/26 [==============================] - 3s 132ms/step - loss: 0.2796 - accuracy: 0.9303 - val_loss: 0.2833 - val_accuracy: 0.8657\n",
            "Epoch 13/20\n",
            "26/26 [==============================] - 3s 134ms/step - loss: 0.2615 - accuracy: 0.9111 - val_loss: 0.6159 - val_accuracy: 0.6418\n",
            "Epoch 14/20\n",
            "26/26 [==============================] - 3s 133ms/step - loss: 0.2710 - accuracy: 0.9111 - val_loss: 0.2919 - val_accuracy: 0.8806\n",
            "Epoch 15/20\n",
            "26/26 [==============================] - 3s 133ms/step - loss: 0.1662 - accuracy: 0.9495 - val_loss: 0.3205 - val_accuracy: 0.8582\n",
            "Epoch 16/20\n",
            "26/26 [==============================] - 3s 133ms/step - loss: 0.1798 - accuracy: 0.9471 - val_loss: 0.7299 - val_accuracy: 0.6493\n",
            "Epoch 17/20\n",
            "26/26 [==============================] - 3s 132ms/step - loss: 0.2889 - accuracy: 0.8942 - val_loss: 0.3591 - val_accuracy: 0.8284\n",
            "Epoch 18/20\n",
            "26/26 [==============================] - 3s 133ms/step - loss: 0.1908 - accuracy: 0.9519 - val_loss: 0.2467 - val_accuracy: 0.8881\n",
            "Epoch 19/20\n",
            "26/26 [==============================] - 3s 133ms/step - loss: 0.1815 - accuracy: 0.9543 - val_loss: 0.4345 - val_accuracy: 0.8060\n",
            "Epoch 20/20\n",
            "26/26 [==============================] - 3s 132ms/step - loss: 0.2177 - accuracy: 0.9327 - val_loss: 0.2729 - val_accuracy: 0.8806\n",
            "total time to fit data = 6.2060568531354265 minutes\n"
          ],
          "name": "stdout"
        }
      ]
    },
    {
      "cell_type": "code",
      "metadata": {
        "id": "pXZmFis6HSvl",
        "colab": {
          "base_uri": "https://localhost:8080/"
        },
        "outputId": "6e95ca6b-32fd-4003-cc1d-8263246023ce"
      },
      "source": [
        "model.summary() "
      ],
      "execution_count": null,
      "outputs": [
        {
          "output_type": "stream",
          "text": [
            "Model: \"sequential\"\n",
            "_________________________________________________________________\n",
            "Layer (type)                 Output Shape              Param #   \n",
            "=================================================================\n",
            "conv2d (Conv2D)              (None, 113, 116, 16)      448       \n",
            "_________________________________________________________________\n",
            "max_pooling2d (MaxPooling2D) (None, 56, 58, 16)        0         \n",
            "_________________________________________________________________\n",
            "dropout (Dropout)            (None, 56, 58, 16)        0         \n",
            "_________________________________________________________________\n",
            "conv2d_1 (Conv2D)            (None, 54, 56, 32)        4640      \n",
            "_________________________________________________________________\n",
            "max_pooling2d_1 (MaxPooling2 (None, 27, 28, 32)        0         \n",
            "_________________________________________________________________\n",
            "dropout_1 (Dropout)          (None, 27, 28, 32)        0         \n",
            "_________________________________________________________________\n",
            "conv2d_2 (Conv2D)            (None, 25, 26, 64)        18496     \n",
            "_________________________________________________________________\n",
            "max_pooling2d_2 (MaxPooling2 (None, 12, 13, 64)        0         \n",
            "_________________________________________________________________\n",
            "dropout_2 (Dropout)          (None, 12, 13, 64)        0         \n",
            "_________________________________________________________________\n",
            "flatten (Flatten)            (None, 9984)              0         \n",
            "_________________________________________________________________\n",
            "dense (Dense)                (None, 64)                639040    \n",
            "_________________________________________________________________\n",
            "dropout_3 (Dropout)          (None, 64)                0         \n",
            "_________________________________________________________________\n",
            "dense_1 (Dense)              (None, 1)                 65        \n",
            "=================================================================\n",
            "Total params: 662,689\n",
            "Trainable params: 662,689\n",
            "Non-trainable params: 0\n",
            "_________________________________________________________________\n"
          ],
          "name": "stdout"
        }
      ]
    },
    {
      "cell_type": "code",
      "metadata": {
        "id": "e2Iz0DzJZchX",
        "colab": {
          "base_uri": "https://localhost:8080/"
        },
        "outputId": "56cccf5d-f52d-4349-ba13-2ff06fd91156"
      },
      "source": [
        "# Saved model\n",
        "model.save(\"my_model\")"
      ],
      "execution_count": null,
      "outputs": [
        {
          "output_type": "stream",
          "text": [
            "INFO:tensorflow:Assets written to: my_model/assets\n"
          ],
          "name": "stdout"
        }
      ]
    },
    {
      "cell_type": "code",
      "metadata": {
        "id": "Y8VmfJTCHKC6"
      },
      "source": [
        "model_1 = keras.models.load_model(\"my_model\")"
      ],
      "execution_count": null,
      "outputs": []
    },
    {
      "cell_type": "code",
      "metadata": {
        "id": "ciADtFyKHXCY"
      },
      "source": [
        "pred= model_1.predict_generator(test_image_gen)"
      ],
      "execution_count": null,
      "outputs": []
    },
    {
      "cell_type": "code",
      "metadata": {
        "id": "cLCkNrrkHbz4",
        "colab": {
          "base_uri": "https://localhost:8080/"
        },
        "outputId": "4bf435e0-982b-4a3c-f6f2-d13b12806758"
      },
      "source": [
        "pred"
      ],
      "execution_count": null,
      "outputs": [
        {
          "output_type": "execute_result",
          "data": {
            "text/plain": [
              "array([[1.81871201e-05],\n",
              "       [4.23573237e-03],\n",
              "       [7.06599534e-01],\n",
              "       [8.51699950e-13],\n",
              "       [2.44921846e-19],\n",
              "       [1.93766132e-02],\n",
              "       [6.63201354e-06],\n",
              "       [1.84766377e-05],\n",
              "       [1.13670819e-01],\n",
              "       [8.12176287e-01],\n",
              "       [3.66870481e-08],\n",
              "       [1.78497737e-06],\n",
              "       [7.24161863e-01],\n",
              "       [8.19026768e-01],\n",
              "       [5.58342563e-08],\n",
              "       [7.51707017e-01],\n",
              "       [8.11163306e-01],\n",
              "       [7.01619592e-03],\n",
              "       [2.78287684e-04],\n",
              "       [2.76995171e-02],\n",
              "       [3.56187257e-07],\n",
              "       [4.54687659e-04],\n",
              "       [8.12222362e-01],\n",
              "       [4.21834141e-02],\n",
              "       [1.11190461e-01],\n",
              "       [5.74918158e-06],\n",
              "       [8.75239745e-02],\n",
              "       [1.30797026e-03],\n",
              "       [1.07070290e-08],\n",
              "       [7.88705074e-06],\n",
              "       [3.24463956e-02],\n",
              "       [1.69722185e-07],\n",
              "       [5.41633969e-12],\n",
              "       [8.24969471e-01],\n",
              "       [2.52262503e-01],\n",
              "       [8.19936574e-01],\n",
              "       [8.19151938e-01],\n",
              "       [8.08881938e-01],\n",
              "       [8.14495862e-01],\n",
              "       [3.31352465e-02],\n",
              "       [1.40068546e-01],\n",
              "       [3.92992888e-03],\n",
              "       [3.54150131e-08],\n",
              "       [2.33967793e-12],\n",
              "       [2.87783916e-14],\n",
              "       [4.55411967e-13],\n",
              "       [8.20953906e-01],\n",
              "       [3.67745175e-03],\n",
              "       [1.67054357e-03],\n",
              "       [3.16567800e-10],\n",
              "       [2.21823389e-03],\n",
              "       [7.27489650e-01],\n",
              "       [5.62252990e-06],\n",
              "       [1.77719127e-13],\n",
              "       [3.51894766e-01],\n",
              "       [2.98791996e-08],\n",
              "       [6.94100891e-05],\n",
              "       [5.14183860e-08],\n",
              "       [1.87754328e-03],\n",
              "       [1.86664836e-17],\n",
              "       [4.50567399e-07],\n",
              "       [5.98584471e-09],\n",
              "       [5.37114147e-07],\n",
              "       [5.36151290e-01],\n",
              "       [7.30189231e-06],\n",
              "       [8.10902596e-01],\n",
              "       [6.89196512e-02],\n",
              "       [9.70362193e-11],\n",
              "       [1.44876765e-07],\n",
              "       [4.97265998e-03],\n",
              "       [1.10723246e-04],\n",
              "       [1.75456538e-08],\n",
              "       [1.52031280e-05],\n",
              "       [3.81065358e-04],\n",
              "       [1.75588648e-05],\n",
              "       [8.16858292e-01],\n",
              "       [1.08000429e-04],\n",
              "       [2.81969248e-03],\n",
              "       [1.43564394e-04],\n",
              "       [1.07474931e-04],\n",
              "       [1.83173224e-01],\n",
              "       [9.12879768e-05],\n",
              "       [2.06133351e-04],\n",
              "       [1.45464599e-01],\n",
              "       [1.44419335e-02],\n",
              "       [3.05096668e-17],\n",
              "       [4.49373461e-02],\n",
              "       [1.59632485e-09],\n",
              "       [8.03732216e-01],\n",
              "       [3.31551481e-10],\n",
              "       [6.06753803e-09],\n",
              "       [8.07667613e-01],\n",
              "       [8.00583899e-01],\n",
              "       [8.17286551e-01],\n",
              "       [8.12353373e-01],\n",
              "       [8.07820618e-01],\n",
              "       [8.11147451e-01],\n",
              "       [8.09960604e-01],\n",
              "       [8.09102595e-01],\n",
              "       [8.09546173e-01],\n",
              "       [8.16622198e-01],\n",
              "       [8.12328339e-01],\n",
              "       [8.12571824e-01],\n",
              "       [8.08946431e-01],\n",
              "       [8.09273303e-01],\n",
              "       [8.11434627e-01],\n",
              "       [8.13825071e-01],\n",
              "       [8.07410598e-01],\n",
              "       [8.25195134e-01],\n",
              "       [8.07141602e-01],\n",
              "       [8.04069877e-01],\n",
              "       [8.26113045e-01],\n",
              "       [8.17317367e-01],\n",
              "       [8.24125290e-01],\n",
              "       [8.11277270e-01],\n",
              "       [8.20069551e-01],\n",
              "       [8.16088200e-01],\n",
              "       [8.07598889e-01],\n",
              "       [8.19083214e-01],\n",
              "       [8.06488752e-01],\n",
              "       [8.15363228e-01],\n",
              "       [8.21331143e-01],\n",
              "       [8.18131566e-01],\n",
              "       [8.12223434e-01],\n",
              "       [8.05494726e-01],\n",
              "       [8.15309048e-01],\n",
              "       [8.12187672e-01],\n",
              "       [8.12600732e-01],\n",
              "       [8.21723938e-01],\n",
              "       [8.06536138e-01],\n",
              "       [8.19326580e-01],\n",
              "       [8.00413430e-01],\n",
              "       [8.17363739e-01],\n",
              "       [8.14457357e-01]], dtype=float32)"
            ]
          },
          "metadata": {
            "tags": []
          },
          "execution_count": 44
        }
      ]
    },
    {
      "cell_type": "code",
      "metadata": {
        "id": "LPbxd47HHfd_"
      },
      "source": [
        "predictions = pred > 0.7\n"
      ],
      "execution_count": null,
      "outputs": []
    },
    {
      "cell_type": "code",
      "metadata": {
        "id": "yhTLupQzHnKZ",
        "colab": {
          "base_uri": "https://localhost:8080/"
        },
        "outputId": "b140f64d-d468-4ea6-9c03-cfffa97cbe66"
      },
      "source": [
        "len(predictions)\n",
        "predictions"
      ],
      "execution_count": null,
      "outputs": [
        {
          "output_type": "execute_result",
          "data": {
            "text/plain": [
              "array([[False],\n",
              "       [False],\n",
              "       [ True],\n",
              "       [False],\n",
              "       [False],\n",
              "       [False],\n",
              "       [False],\n",
              "       [False],\n",
              "       [False],\n",
              "       [ True],\n",
              "       [False],\n",
              "       [False],\n",
              "       [ True],\n",
              "       [ True],\n",
              "       [False],\n",
              "       [ True],\n",
              "       [ True],\n",
              "       [False],\n",
              "       [False],\n",
              "       [False],\n",
              "       [False],\n",
              "       [False],\n",
              "       [ True],\n",
              "       [False],\n",
              "       [False],\n",
              "       [False],\n",
              "       [False],\n",
              "       [False],\n",
              "       [False],\n",
              "       [False],\n",
              "       [False],\n",
              "       [False],\n",
              "       [False],\n",
              "       [ True],\n",
              "       [False],\n",
              "       [ True],\n",
              "       [ True],\n",
              "       [ True],\n",
              "       [ True],\n",
              "       [False],\n",
              "       [False],\n",
              "       [False],\n",
              "       [False],\n",
              "       [False],\n",
              "       [False],\n",
              "       [False],\n",
              "       [ True],\n",
              "       [False],\n",
              "       [False],\n",
              "       [False],\n",
              "       [False],\n",
              "       [ True],\n",
              "       [False],\n",
              "       [False],\n",
              "       [False],\n",
              "       [False],\n",
              "       [False],\n",
              "       [False],\n",
              "       [False],\n",
              "       [False],\n",
              "       [False],\n",
              "       [False],\n",
              "       [False],\n",
              "       [False],\n",
              "       [False],\n",
              "       [ True],\n",
              "       [False],\n",
              "       [False],\n",
              "       [False],\n",
              "       [False],\n",
              "       [False],\n",
              "       [False],\n",
              "       [False],\n",
              "       [False],\n",
              "       [False],\n",
              "       [ True],\n",
              "       [False],\n",
              "       [False],\n",
              "       [False],\n",
              "       [False],\n",
              "       [False],\n",
              "       [False],\n",
              "       [False],\n",
              "       [False],\n",
              "       [False],\n",
              "       [False],\n",
              "       [False],\n",
              "       [False],\n",
              "       [ True],\n",
              "       [False],\n",
              "       [False],\n",
              "       [ True],\n",
              "       [ True],\n",
              "       [ True],\n",
              "       [ True],\n",
              "       [ True],\n",
              "       [ True],\n",
              "       [ True],\n",
              "       [ True],\n",
              "       [ True],\n",
              "       [ True],\n",
              "       [ True],\n",
              "       [ True],\n",
              "       [ True],\n",
              "       [ True],\n",
              "       [ True],\n",
              "       [ True],\n",
              "       [ True],\n",
              "       [ True],\n",
              "       [ True],\n",
              "       [ True],\n",
              "       [ True],\n",
              "       [ True],\n",
              "       [ True],\n",
              "       [ True],\n",
              "       [ True],\n",
              "       [ True],\n",
              "       [ True],\n",
              "       [ True],\n",
              "       [ True],\n",
              "       [ True],\n",
              "       [ True],\n",
              "       [ True],\n",
              "       [ True],\n",
              "       [ True],\n",
              "       [ True],\n",
              "       [ True],\n",
              "       [ True],\n",
              "       [ True],\n",
              "       [ True],\n",
              "       [ True],\n",
              "       [ True],\n",
              "       [ True],\n",
              "       [ True]])"
            ]
          },
          "metadata": {
            "tags": []
          },
          "execution_count": 46
        }
      ]
    },
    {
      "cell_type": "code",
      "metadata": {
        "id": "L7mlcq-BHx-D",
        "colab": {
          "base_uri": "https://localhost:8080/"
        },
        "outputId": "d72d0f42-90f2-41ae-cc5e-28b1ba17f457"
      },
      "source": [
        "print(classification_report(test_image_gen.classes, predictions))"
      ],
      "execution_count": null,
      "outputs": [
        {
          "output_type": "stream",
          "text": [
            "              precision    recall  f1-score   support\n",
            "\n",
            "           0       1.00      0.81      0.90        91\n",
            "           1       0.72      1.00      0.83        43\n",
            "\n",
            "    accuracy                           0.87       134\n",
            "   macro avg       0.86      0.91      0.87       134\n",
            "weighted avg       0.91      0.87      0.88       134\n",
            "\n"
          ],
          "name": "stdout"
        }
      ]
    },
    {
      "cell_type": "code",
      "metadata": {
        "id": "MdJyy4f4Ynrh",
        "colab": {
          "base_uri": "https://localhost:8080/",
          "height": 609
        },
        "outputId": "aec3ad60-7a47-446d-eeec-2658dbe7003c"
      },
      "source": [
        "# get the confusion matrix\n",
        "cm = confusion_matrix(test_image_gen.classes, predictions)\n",
        "plt.figure(figsize = (10, 10))\n",
        "sns.heatmap(cm, annot = True)"
      ],
      "execution_count": null,
      "outputs": [
        {
          "output_type": "execute_result",
          "data": {
            "text/plain": [
              "<matplotlib.axes._subplots.AxesSubplot at 0x7f4f22867290>"
            ]
          },
          "metadata": {
            "tags": []
          },
          "execution_count": 48
        },
        {
          "output_type": "display_data",
          "data": {
            "image/png": "[encoded data removed]",
            "text/plain": [
              "<Figure size 720x720 with 2 Axes>"
            ]
          },
          "metadata": {
            "tags": [],
            "needs_background": "light"
          }
        }
      ]
    },
    {
      "cell_type": "code",
      "metadata": {
        "id": "AfS6dm1ecWFY"
      },
      "source": [
        ""
      ],
      "execution_count": null,
      "outputs": []
    }
  ]
}